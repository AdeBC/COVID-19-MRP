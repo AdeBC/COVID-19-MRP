{
 "cells": [
  {
   "cell_type": "code",
   "execution_count": 1,
   "metadata": {},
   "outputs": [],
   "source": [
    "import pandas as pd\n",
    "import numpy as np"
   ]
  },
  {
   "cell_type": "code",
   "execution_count": 30,
   "metadata": {},
   "outputs": [],
   "source": [
    "def load_datasets():\n",
    "    file = '../Data-files/1352S_101F.xlsx'\n",
    "    sheets = ['整数-101F', 'top5F', 'top3F', '3F']\n",
    "    tables = {name: pd.read_excel(file, sheet_name=name) for name in sheets}\n",
    "    for i in tables.values():\n",
    "        i.index += 1\n",
    "        \n",
    "    return tables"
   ]
  },
  {
   "cell_type": "code",
   "execution_count": 31,
   "metadata": {},
   "outputs": [],
   "source": [
    "def to_otus(raw_tables):\n",
    "    for name, table in raw_tables.items():\n",
    "        table = table.drop(columns='Status')\n",
    "        table.index = table['SampleID']\n",
    "        table = table.drop(columns='SampleID')\n",
    "        \n",
    "        # negative values treated as zeros\n",
    "        raw_tables[name] = table.applymap(lambda x: x if x >=0 else 0)\n",
    "    return raw_tables"
   ]
  },
  {
   "cell_type": "code",
   "execution_count": 35,
   "metadata": {},
   "outputs": [],
   "source": [
    "def make_meta(otus_with_status):\n",
    "    sources_ix = np.random.rand(1352) < 0.9\n",
    "    sinks_ix = ~sources_ix\n",
    "    meta = pd.DataFrame(data={'Env': otus_with_status['Status'].tolist(), \n",
    "                              'SourceSink': 'Source'}, \n",
    "                        index=otus_with_status['SampleID'])\n",
    "    meta.iloc[sinks_ix, 1] = 'Sink'\n",
    "    meta['id'] = 0\n",
    "    meta[meta['SourceSink'] == 'Sink'].loc[:, 2] = range(1, sum(sinks_ix) + 1)\n",
    "    return meta"
   ]
  },
  {
   "cell_type": "code",
   "execution_count": null,
   "metadata": {},
   "outputs": [],
   "source": [
    "def plot_roc(series):\n",
    "    #...\n",
    "    return None"
   ]
  }
 ],
 "metadata": {
  "kernelspec": {
   "display_name": "Python 3",
   "language": "python",
   "name": "python3"
  },
  "language_info": {
   "codemirror_mode": {
    "name": "ipython",
    "version": 3
   },
   "file_extension": ".py",
   "mimetype": "text/x-python",
   "name": "python",
   "nbconvert_exporter": "python",
   "pygments_lexer": "ipython3",
   "version": "3.8.2"
  },
  "widgets": {
   "application/vnd.jupyter.widget-state+json": {
    "state": {},
    "version_major": 2,
    "version_minor": 0
   }
  }
 },
 "nbformat": 4,
 "nbformat_minor": 4
}
