{
 "cells": [
  {
   "cell_type": "code",
   "execution_count": 9,
   "metadata": {},
   "outputs": [],
   "source": [
    "import pandas as pd\n",
    "import numpy as np"
   ]
  },
  {
   "cell_type": "code",
   "execution_count": 10,
   "metadata": {},
   "outputs": [],
   "source": [
    "def load_datasets():\n",
    "    file = '../Data-files/1352S_101F.xlsx'\n",
    "    sheets = ['整数-101F', 'top5F', 'top3F', '3F']\n",
    "    tables = {name: pd.read_excel(file, sheet_name=name) for name in sheets}\n",
    "    for i in tables.values():\n",
    "        i.index += 1\n",
    "        \n",
    "    return tables"
   ]
  },
  {
   "cell_type": "code",
   "execution_count": 11,
   "metadata": {},
   "outputs": [],
   "source": [
    "def to_otus(raw_tables):\n",
    "    for name, table in raw_tables.items():\n",
    "        table = table.drop(columns='Status')\n",
    "        table.index = table['SampleID']\n",
    "        table = table.drop(columns='SampleID')\n",
    "        \n",
    "        # negative values treated as zeros\n",
    "        raw_tables[name] = table.applymap(lambda x: x if x >=0 else 0)\n",
    "    return raw_tables"
   ]
  },
  {
   "cell_type": "code",
   "execution_count": 12,
   "metadata": {},
   "outputs": [],
   "source": [
    "def make_meta(otus_with_status):\n",
    "    sources_ix = np.random.rand(1352) < 0.9\n",
    "    sinks_ix = ~sources_ix\n",
    "    meta = pd.DataFrame(data={'Env': otus_with_status['Status'].tolist(), \n",
    "                              'SourceSink': 'Source'}, \n",
    "                        index=otus_with_status['SampleID'])\n",
    "    meta.iloc[sinks_ix, 1] = 'Sink'\n",
    "    meta['id'] = 0\n",
    "    meta[meta['SourceSink'] == 'Sink'].loc[:, 2] = range(1, sum(sinks_ix) + 1)\n",
    "    return meta"
   ]
  },
  {
   "cell_type": "code",
   "execution_count": 13,
   "metadata": {},
   "outputs": [],
   "source": [
    "def plot_roc(series):\n",
    "    #...\n",
    "    return None"
   ]
  },
  {
   "cell_type": "code",
   "execution_count": 36,
   "metadata": {},
   "outputs": [],
   "source": [
    "# Define functions\n",
    "def FEAST_post_proc(df):\n",
    "    # df = pd.read_csv('../tmp/F3_source_contributions_matrix.txt', sep='\\t').T\n",
    "    df = df.T\n",
    "    df['GroupID'] = df.index.to_series().apply(lambda x: x.split('_')[1] if x != 'Unknown' else x)\n",
    "    df = df.groupby(by='GroupID').sum().T\n",
    "    df['Env'] = df.index.to_series().apply(lambda x: x.split('_')[1])\n",
    "    df['SampleID'] = df.index.tolist()\n",
    "    return df\n",
    "\n",
    "def JSD_post_proc(df, meta):\n",
    "    # probas = softmax(1-distance) for each sample\n",
    "    df = 1 - df.T\n",
    "    df['Env'] = meta.loc[meta['SourceSink']=='Source', 'Env'].tolist()\n",
    "    softmax = lambda x: np.exp(x) / np.exp(x).sum()\n",
    "    df = df.groupby(by='Env').mean().apply(softmax, axis=0)\n",
    "    df = df.T\n",
    "    df.rename(mapper={'Env': '1', 'died': 'died', 'survived': 'survived'}, axis=1, inplace=True)\n",
    "    df['Env'] = meta.loc[meta['SourceSink']=='Sink', 'Env'].tolist()\n",
    "    df['SampleID'] = df.index.tolist()\n",
    "    return df"
   ]
  },
  {
   "cell_type": "markdown",
   "metadata": {},
   "source": [
    "# Prepare\n",
    "names = [\"F5_top\", \"F3_top\", \"F101\", \"F3\"]\n",
    "meta = pd.read_csv('../tmp/meta.csv')\n",
    "res_JSD = {name: '../Tmp/'+name+'.jsd.distance.csv' for name in names}\n",
    "res_FEAST = {name: '../Tmp/'+name+'_source_contributions_matrix.txt' for name in names}\n",
    "pred_JSD = {name: '../DLMER-Bio/'+name+'.JSD.predictions.csv' for name in names}\n",
    "pred_FEAST = {name: '../DLMER-Bio/'+name+'.FEAST.predictions.csv' for name in names}\n",
    "DLMER_in_JSD = {name: '../DLMER-Bio/'+name+'.JSD.DLMER.in.txt' for name in names}\n",
    "DLMER_in_FEAST = {name: '../DLMER-Bio/'+name+'.FEAST.DLMER.in.txt' for name in names}\n",
    "\n",
    "# Read res\n",
    "res_JSD_dfs = {name: pd.read_csv(f, index_col=0) for name, f in res_JSD.items()}\n",
    "res_FEAST_dfs = {name: pd.read_csv(f, sep='\\t') for name, f in res_FEAST.items()}"
   ]
  },
  {
   "cell_type": "markdown",
   "metadata": {},
   "source": [
    "JSD_post_proc(res_JSD_dfs['F101'], meta)"
   ]
  },
  {
   "cell_type": "code",
   "execution_count": null,
   "metadata": {},
   "outputs": [],
   "source": []
  }
 ],
 "metadata": {
  "kernelspec": {
   "display_name": "Python 3",
   "language": "python",
   "name": "python3"
  },
  "language_info": {
   "codemirror_mode": {
    "name": "ipython",
    "version": 3
   },
   "file_extension": ".py",
   "mimetype": "text/x-python",
   "name": "python",
   "nbconvert_exporter": "python",
   "pygments_lexer": "ipython3",
   "version": "3.8.2"
  },
  "widgets": {
   "application/vnd.jupyter.widget-state+json": {
    "state": {},
    "version_major": 2,
    "version_minor": 0
   }
  }
 },
 "nbformat": 4,
 "nbformat_minor": 4
}
