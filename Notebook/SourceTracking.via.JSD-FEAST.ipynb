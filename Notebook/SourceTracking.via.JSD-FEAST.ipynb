{
 "cells": [
  {
   "cell_type": "markdown",
   "metadata": {},
   "source": [
    "import libraries"
   ]
  },
  {
   "cell_type": "code",
   "execution_count": 1,
   "metadata": {},
   "outputs": [
    {
     "name": "stdout",
     "output_type": "stream",
     "text": [
      "importing Jupyter notebook from utils.ipynb\n"
     ]
    }
   ],
   "source": [
    "# Load Python packages\n",
    "import import_ipynb\n",
    "import os\n",
    "import pandas as pd\n",
    "import numpy as np\n",
    "from tqdm import tqdm\n",
    "from matplotlib import pyplot as plt\n",
    "from rpy2 import robjects\n",
    "from rpy2.robjects.packages import importr\n",
    "from utils import load_datasets, plot_roc, make_meta, to_otus\n",
    "\n",
    "# Load R & packages\n",
    "%load_ext rpy2.ipython\n",
    "%R suppressMessages(library(textmineR))\n",
    "%R suppressMessages(library(FEAST))\n",
    "\n",
    "# basic configuration for pyplot & numpy\n",
    "plt.style.use(['science','no-latex'])\n",
    "np.random.seed(1)"
   ]
  },
  {
   "cell_type": "markdown",
   "metadata": {},
   "source": [
    "load datasets"
   ]
  },
  {
   "cell_type": "code",
   "execution_count": 2,
   "metadata": {},
   "outputs": [],
   "source": [
    "datasets = load_datasets()"
   ]
  },
  {
   "cell_type": "code",
   "execution_count": 3,
   "metadata": {},
   "outputs": [],
   "source": [
    "def make_meta(otus_with_status):\n",
    "    sources_ix = np.random.rand(1352) < 0.9\n",
    "    sinks_ix = ~sources_ix\n",
    "    meta = pd.DataFrame(data={'Env': otus_with_status['Status'].tolist(), \n",
    "                              'SourceSink': 'Source'}, \n",
    "                        index=otus_with_status['SampleID'])\n",
    "    meta.loc[sinks_ix, 'SourceSink'] = 'Sink'\n",
    "    meta['id'] = 1\n",
    "    meta.loc[meta['SourceSink'] == 'Sink', 'id'] = list(range(1, sum(sinks_ix) + 1))\n",
    "    return meta\n",
    "\n",
    "# Generate meta table using information from '3F' table, save to ../Tmp/...\n",
    "meta = make_meta(datasets['3F'].copy())\n",
    "meta.to_csv('../Tmp/meta.csv')\n",
    "\n",
    "# Transform raw otus table to FEAST & JSD-acceptable otus\n",
    "otus = to_otus(datasets)\n",
    "a_101f = otus['整数-101F'].fillna(0).astype(int)\n",
    "b_3f = otus['3F'].fillna(0).astype(int)\n",
    "c_top5f = otus['top5F'].fillna(0).astype(int)\n",
    "d_top3f = otus['top3F'].fillna(0).astype(int)"
   ]
  },
  {
   "cell_type": "markdown",
   "metadata": {},
   "source": [
    "do sourcetracking"
   ]
  },
  {
   "cell_type": "code",
   "execution_count": null,
   "metadata": {},
   "outputs": [
    {
     "name": "stdout",
     "output_type": "stream",
     "text": [
      "[1] \"Calculating mixinig proportions for sink 10\"\n",
      "[1] \"Calculating mixinig proportions for sink 20\"\n",
      "[1] \"Calculating mixinig proportions for sink 30\"\n",
      "[1] \"Calculating mixinig proportions for sink 40\"\n",
      "[1] \"Calculating mixinig proportions for sink 50\"\n",
      "[1] \"Calculating mixinig proportions for sink 60\"\n",
      "[1] \"Calculating mixinig proportions for sink 70\"\n",
      "[1] \"Calculating mixinig proportions for sink 80\"\n",
      "[1] \"Calculating mixinig proportions for sink 90\"\n",
      "[1] \"Calculating mixinig proportions for sink 100\"\n",
      "[1] \"Calculating mixinig proportions for sink 110\"\n",
      "[1] \"Calculating mixinig proportions for sink 120\"\n",
      "[1] \"Calculating mixinig proportions for sink 129\"\n",
      "[1] \"Calculating mixinig proportions for sink 10\"\n",
      "[1] \"Calculating mixinig proportions for sink 20\"\n",
      "[1] \"Calculating mixinig proportions for sink 30\"\n",
      "[1] \"Calculating mixinig proportions for sink 40\"\n",
      "[1] \"Calculating mixinig proportions for sink 50\"\n"
     ]
    },
    {
     "name": "stderr",
     "output_type": "stream",
     "text": [
      "From cffi callback <function _processevents at 0x7f70d1bb0160>:\n",
      "Traceback (most recent call last):\n",
      "  File \"/usr/local/lib/python3.8/dist-packages/rpy2/rinterface_lib/callbacks.py\", line 268, in _processevents\n",
      "    try:\n",
      "KeyboardInterrupt\n"
     ]
    },
    {
     "name": "stdout",
     "output_type": "stream",
     "text": [
      "[1] \"Calculating mixinig proportions for sink 60\"\n"
     ]
    }
   ],
   "source": [
    "%%time\n",
    "%%R -i meta -i a_101f -i b_3f -i c_top5f -i d_top3f\n",
    "\n",
    "# Just keep sink rows and source columns\n",
    "ids.sources = rownames(meta[meta$SourceSink == 'Source', ]) \n",
    "ids.sinks = rownames(meta[meta$SourceSink == 'Sink', ])\n",
    "\n",
    "# Prepare for iteration over datasets\n",
    "multi_otus <- list(F5_top=c_top5f, F3_top=d_top3f, F101=a_101f, F3=b_3f)\n",
    "names <- c(\"F5_top\", \"F3_top\", \"F101\", \"F3\")\n",
    "\n",
    "# Iteration\n",
    "for(i in 1:length(multi_otus)){\n",
    "    otus <- as.matrix(multi_otus[[i]])#[1:500, ]\n",
    "    otus <- otus[rowSums(otus) > 0, ]\n",
    "    \n",
    "    # Calculating source proportions and save to ../Tmp/...\n",
    "    FEAST(C = otus, metadata = meta, different_sources_flag = 0, \n",
    "      COVERAGE = 1000, dir_path = \"../Tmp/\", outfile=names[i])\n",
    "    \n",
    "    # Calculating JSD matrix and save to ../Tmp/...\n",
    "    dis.ma <- CalcJSDivergence(x=as.matrix(multi_otus[[i]]))[ids.sinks, ids.sources]\n",
    "    write.csv(dis.ma, paste0('../Tmp/', names[i], 'jsd.distance.csv'), \n",
    "              row.names=T, col.names=T)\n",
    "}"
   ]
  },
  {
   "cell_type": "markdown",
   "metadata": {},
   "source": [
    "evaluation"
   ]
  },
  {
   "cell_type": "code",
   "execution_count": null,
   "metadata": {},
   "outputs": [],
   "source": [
    "# plot_roc()"
   ]
  }
 ],
 "metadata": {
  "kernelspec": {
   "display_name": "Python 3",
   "language": "python",
   "name": "python3"
  },
  "language_info": {
   "codemirror_mode": {
    "name": "ipython",
    "version": 3
   },
   "file_extension": ".py",
   "mimetype": "text/x-python",
   "name": "python",
   "nbconvert_exporter": "python",
   "pygments_lexer": "ipython3",
   "version": "3.8.2"
  },
  "widgets": {
   "application/vnd.jupyter.widget-state+json": {
    "state": {},
    "version_major": 2,
    "version_minor": 0
   }
  }
 },
 "nbformat": 4,
 "nbformat_minor": 4
}
